{
 "cells": [
  {
   "cell_type": "markdown",
   "id": "677abc30-fa11-4f06-9947-20c86109a33d",
   "metadata": {},
   "source": [
    "## Creating training data for cellpose segmentation"
   ]
  },
  {
   "cell_type": "markdown",
   "id": "1f8db8ed-2ab7-42dd-b394-bda822af684c",
   "metadata": {},
   "source": [
    "From the ROI images, extract a set of representative image slices"
   ]
  },
  {
   "cell_type": "code",
   "execution_count": 17,
   "id": "5e8a7b2b-1c6c-4aa7-bdc2-428f707ae4f0",
   "metadata": {
    "scrolled": true
   },
   "outputs": [],
   "source": [
    "%%capture\n",
    "#suppresses output\n",
    "import numpy as np #importing some packages we will need\n",
    "import skimage.io\n",
    "import matplotlib.pyplot as plt\n",
    "import sys\n",
    "sys.path.append('/home/groups/ZuckermanLab/copperma/cell/celltraj/celltraj')\n",
    "import imageprep as imprep\n",
    "import utilities\n",
    "import skimage.filters\n",
    "import scipy.ndimage\n",
    "from skimage.filters import threshold_local\n",
    "from skimage.segmentation import clear_border\n",
    "import cmapfile\n",
    "import pathlib\n",
    "import nd2\n",
    "from skimage.measure import regionprops_table\n",
    "from IPython.display import clear_output\n",
    "import os"
   ]
  },
  {
   "cell_type": "markdown",
   "id": "d0f8443c-ae7f-481a-9ba6-a3d74178c834",
   "metadata": {},
   "source": [
    "##### Establish channels, imaging parameters, and object parameters-- use NIS AR or other software first to gather info, copy from extract_roi step"
   ]
  },
  {
   "cell_type": "code",
   "execution_count": 20,
   "id": "ad587180-afbc-4e00-a9db-1c4cbd398925",
   "metadata": {},
   "outputs": [],
   "source": [
    "date = '2024.03.08'\n",
    "modelName = f'20240302_OS17lung_RM' #results will be saved/named using this string\n",
    "nxy=20\n",
    "ind_xy = np.arange(nxy).astype(int)\n",
    "#ind_xy = np.array([3,4]).astype(int) #choose xys for analysis. If all, use ind_xy = np.arange(nxy).astype(int)\n",
    "nuc_channel=0 #nuclear channel\n",
    "rep_channel=3 #reporter channel (ERK here)\n",
    "bf_channel=4 #bright-field channel\n",
    "channels = ['DAPI','CFP','TRITC','YFP','BF'] #names for channels in plots\n",
    "channel_colors = ['blue','cyan','red','goldenrod','gray'] #colors for channels in plots\n",
    "channel_dict=dict([(x, i) for i, x in enumerate(channels)])\n",
    "micron_per_pixel=.33 #lateral resolution (image pixel size)\n",
    "micron_per_z=3.0 #axial resolution between z-slices\n",
    "zscale=micron_per_z/micron_per_pixel\n",
    "nucl=40 #typical nucleus linear diameter pixels"
   ]
  },
  {
   "cell_type": "code",
   "execution_count": 21,
   "id": "952a373f-2dec-4957-a9f9-ca88eecd2006",
   "metadata": {},
   "outputs": [],
   "source": [
    "#some convenience functions for later\n",
    "def show_image_3channel(bf_img,nuc_img,rep_img,ax=None):\n",
    "        if ax is None:\n",
    "            ax=plt.gca()\n",
    "        ax.imshow(imprep.znorm(bf_img),cmap=plt.cm.binary,clim=(-5,5))\n",
    "        cs=ax.contour(imprep.znorm(nuc_img),cmap=plt.cm.BuPu,levels=np.linspace(0,np.percentile(imprep.znorm(nuc_img),99),7),alpha=.5,linewidths=.5)\n",
    "        cs.cmap.set_over('purple')\n",
    "        cs=ax.contour(imprep.znorm(rep_img),cmap=plt.cm.YlOrBr_r,levels=np.linspace(0,np.percentile(imprep.znorm(rep_img),99),7),alpha=.25,linewidths=.5)\n",
    "        cs.cmap.set_over('yellow')\n",
    "        return ax\n",
    "\n",
    "def rescale_to_int(img,maxint=2**16-1,dtype=np.uint16):\n",
    "    img=maxint*((img-np.min(img))/np.max(img-np.min(img)))\n",
    "    return img.astype(dtype)"
   ]
  },
  {
   "cell_type": "markdown",
   "id": "f162f589-6f74-4ca2-95f3-a26b1b9f58bf",
   "metadata": {},
   "source": [
    "#### Training set creation"
   ]
  },
  {
   "cell_type": "markdown",
   "id": "4ad8289d-e55d-415b-8074-90148cc10116",
   "metadata": {},
   "source": [
    "We are going to extract a set of representative image slices from each ROI and save in a folder for cellpose training"
   ]
  },
  {
   "cell_type": "code",
   "execution_count": 15,
   "id": "d5dd30d5-7a32-47a6-9f19-d3600df731c2",
   "metadata": {},
   "outputs": [],
   "source": [
    "visual=False #try with visual=True first just to see if slices look good\n",
    "nz_random=1\n",
    "nlateral_random=0\n",
    "nt_train=3\n",
    "itrain=0\n",
    "datapath='/home/groups/CEDAR/copperma/dyn-cell-sys/makkawi/20240302_OS17lung_RM'\n",
    "trainpath='/home/groups/CEDAR/copperma/dyn-cell-sys/makkawi/20240302_OS17lung_RM/cellpose_trainingdata'\n",
    "int_cut=1.2\n",
    "highlow_perc=.1\n",
    "int_scale=.1 #scaling between brightfield in fluorescence\n",
    "nz_contiguous=2"
   ]
  },
  {
   "cell_type": "code",
   "execution_count": 11,
   "id": "e6e0dc03-4e09-4b46-b429-86669bcaf734",
   "metadata": {},
   "outputs": [],
   "source": [
    "pathexists = os.path.isdir(trainpath) #create training folder if it doesn't exist already\n",
    "if not pathexists:\n",
    "    os.mkdir(trainpath)"
   ]
  },
  {
   "cell_type": "markdown",
   "id": "c6040207-b6fb-4f3d-a164-fdd7fc7a6c08",
   "metadata": {},
   "source": [
    "Now loop through ROIs and extract some slices"
   ]
  },
  {
   "cell_type": "code",
   "execution_count": 16,
   "id": "37f53e10-fa97-4cff-81fb-21f5a0ffcd14",
   "metadata": {},
   "outputs": [
    {
     "name": "stderr",
     "output_type": "stream",
     "text": [
      "/tmp/ipykernel_3516/238470769.py:44: UserWarning: /home/groups/CEDAR/copperma/dyn-cell-sys/makkawi/20240302_OS17lung_RM/cellpose_trainingdata/train0_t1_z5_xy1_roi0.tif is a low contrast image\n",
      "  skimage.io.imsave(fname,imgz.T)\n",
      "/tmp/ipykernel_3516/238470769.py:44: UserWarning: /home/groups/CEDAR/copperma/dyn-cell-sys/makkawi/20240302_OS17lung_RM/cellpose_trainingdata/train1_t1_z5_xy1_roi0.tif is a low contrast image\n",
      "  skimage.io.imsave(fname,imgz.T)\n",
      "/tmp/ipykernel_3516/238470769.py:44: UserWarning: /home/groups/CEDAR/copperma/dyn-cell-sys/makkawi/20240302_OS17lung_RM/cellpose_trainingdata/train2_t1_z5_xy1_roi0.tif is a low contrast image\n",
      "  skimage.io.imsave(fname,imgz.T)\n"
     ]
    },
    {
     "name": "stdout",
     "output_type": "stream",
     "text": [
      "Intensity high/low percentile ratios 1.87,1.18,1.25 less than specified cutoff 1.2: xy0 roi0 t36\n",
      "Intensity high/low percentile ratios 1.89,1.17,1.24 less than specified cutoff 1.2: xy0 roi0 t72\n",
      "Intensity high/low percentile ratios 1.72,1.18,1.29 less than specified cutoff 1.2: xy1 roi0 t36\n",
      "Intensity high/low percentile ratios 1.81,1.18,1.28 less than specified cutoff 1.2: xy1 roi0 t72\n",
      "Intensity high/low percentile ratios 2.23,1.18,1.25 less than specified cutoff 1.2: xy1 roi1 t36\n",
      "Intensity high/low percentile ratios 2.50,1.18,1.23 less than specified cutoff 1.2: xy1 roi1 t72\n"
     ]
    },
    {
     "name": "stderr",
     "output_type": "stream",
     "text": [
      "/tmp/ipykernel_3516/238470769.py:44: UserWarning: /home/groups/CEDAR/copperma/dyn-cell-sys/makkawi/20240302_OS17lung_RM/cellpose_trainingdata/train17_t1_z3_xy3_roi0.tif is a low contrast image\n",
      "  skimage.io.imsave(fname,imgz.T)\n"
     ]
    },
    {
     "name": "stdout",
     "output_type": "stream",
     "text": [
      "Intensity high/low percentile ratios 1.80,1.18,1.30 less than specified cutoff 1.2: xy2 roi0 t36\n",
      "Intensity high/low percentile ratios 1.82,1.18,1.28 less than specified cutoff 1.2: xy2 roi0 t72\n",
      "Intensity high/low percentile ratios 2.37,1.20,1.32 less than specified cutoff 1.2: xy2 roi1 t36\n",
      "Intensity high/low percentile ratios 2.58,1.19,1.29 less than specified cutoff 1.2: xy2 roi1 t72\n",
      "Intensity high/low percentile ratios 2.10,1.17,1.23 less than specified cutoff 1.2: xy2 roi2 t36\n",
      "Intensity high/low percentile ratios 2.16,1.17,1.22 less than specified cutoff 1.2: xy2 roi2 t72\n"
     ]
    },
    {
     "name": "stderr",
     "output_type": "stream",
     "text": [
      "/tmp/ipykernel_3516/238470769.py:44: UserWarning: /home/groups/CEDAR/copperma/dyn-cell-sys/makkawi/20240302_OS17lung_RM/cellpose_trainingdata/train28_t1_z3_xy4_roi0.tif is a low contrast image\n",
      "  skimage.io.imsave(fname,imgz.T)\n",
      "/tmp/ipykernel_3516/238470769.py:44: UserWarning: /home/groups/CEDAR/copperma/dyn-cell-sys/makkawi/20240302_OS17lung_RM/cellpose_trainingdata/train29_t1_z3_xy4_roi0.tif is a low contrast image\n",
      "  skimage.io.imsave(fname,imgz.T)\n",
      "/tmp/ipykernel_3516/238470769.py:44: UserWarning: /home/groups/CEDAR/copperma/dyn-cell-sys/makkawi/20240302_OS17lung_RM/cellpose_trainingdata/train30_t1_z3_xy4_roi0.tif is a low contrast image\n",
      "  skimage.io.imsave(fname,imgz.T)\n",
      "/tmp/ipykernel_3516/238470769.py:44: UserWarning: /home/groups/CEDAR/copperma/dyn-cell-sys/makkawi/20240302_OS17lung_RM/cellpose_trainingdata/train31_t1_z3_xy4_roi0.tif is a low contrast image\n",
      "  skimage.io.imsave(fname,imgz.T)\n",
      "/tmp/ipykernel_3516/238470769.py:44: UserWarning: /home/groups/CEDAR/copperma/dyn-cell-sys/makkawi/20240302_OS17lung_RM/cellpose_trainingdata/train32_t1_z3_xy4_roi0.tif is a low contrast image\n",
      "  skimage.io.imsave(fname,imgz.T)\n"
     ]
    },
    {
     "name": "stdout",
     "output_type": "stream",
     "text": [
      "Intensity high/low percentile ratios 2.19,1.20,1.30 less than specified cutoff 1.2: xy3 roi0 t36\n",
      "Intensity high/low percentile ratios 2.20,1.19,1.28 less than specified cutoff 1.2: xy3 roi0 t72\n",
      "Intensity high/low percentile ratios 2.05,1.19,1.23 less than specified cutoff 1.2: xy3 roi1 t0\n",
      "Intensity high/low percentile ratios 2.25,1.17,1.21 less than specified cutoff 1.2: xy3 roi1 t36\n",
      "Intensity high/low percentile ratios 2.32,1.17,1.20 less than specified cutoff 1.2: xy3 roi1 t72\n",
      "Intensity high/low percentile ratios 1.98,1.18,1.24 less than specified cutoff 1.2: xy3 roi2 t36\n",
      "Intensity high/low percentile ratios 1.94,1.17,1.21 less than specified cutoff 1.2: xy3 roi2 t72\n",
      "Intensity high/low percentile ratios 2.96,1.19,1.24 less than specified cutoff 1.2: xy4 roi0 t36\n",
      "Intensity high/low percentile ratios 2.89,1.18,1.22 less than specified cutoff 1.2: xy4 roi0 t72\n",
      "Intensity high/low percentile ratios 1.95,1.18,1.25 less than specified cutoff 1.2: xy5 roi0 t36\n",
      "Intensity high/low percentile ratios 2.01,1.18,1.24 less than specified cutoff 1.2: xy5 roi0 t72\n",
      "Intensity high/low percentile ratios 2.05,1.19,1.28 less than specified cutoff 1.2: xy6 roi0 t36\n",
      "Intensity high/low percentile ratios 2.03,1.18,1.26 less than specified cutoff 1.2: xy6 roi0 t72\n",
      "Intensity high/low percentile ratios 1.93,1.17,1.21 less than specified cutoff 1.2: xy7 roi0 t36\n",
      "Intensity high/low percentile ratios 1.93,1.17,1.20 less than specified cutoff 1.2: xy7 roi0 t72\n",
      "Intensity high/low percentile ratios 1.82,1.18,1.32 less than specified cutoff 1.2: xy8 roi0 t36\n",
      "Intensity high/low percentile ratios 1.94,1.18,1.30 less than specified cutoff 1.2: xy8 roi0 t72\n",
      "Intensity high/low percentile ratios 1.41,1.20,1.25 less than specified cutoff 1.2: xy8 roi1 t0\n",
      "Intensity high/low percentile ratios 1.45,1.18,1.21 less than specified cutoff 1.2: xy8 roi1 t36\n",
      "Intensity high/low percentile ratios 1.58,1.17,1.20 less than specified cutoff 1.2: xy8 roi1 t72\n",
      "Intensity high/low percentile ratios 1.88,1.18,1.24 less than specified cutoff 1.2: xy9 roi0 t36\n",
      "Intensity high/low percentile ratios 1.85,1.18,1.22 less than specified cutoff 1.2: xy9 roi0 t72\n",
      "Intensity high/low percentile ratios 1.39,1.18,1.22 less than specified cutoff 1.2: xy9 roi1 t0\n",
      "Intensity high/low percentile ratios 1.36,1.17,1.20 less than specified cutoff 1.2: xy9 roi1 t36\n",
      "Intensity high/low percentile ratios 1.37,1.17,1.19 less than specified cutoff 1.2: xy9 roi1 t72\n",
      "Intensity high/low percentile ratios 2.12,1.19,1.25 less than specified cutoff 1.2: xy10 roi0 t36\n",
      "Intensity high/low percentile ratios 2.21,1.18,1.23 less than specified cutoff 1.2: xy10 roi0 t72\n",
      "Intensity high/low percentile ratios 1.68,1.19,1.26 less than specified cutoff 1.2: xy11 roi0 t36\n",
      "Intensity high/low percentile ratios 1.78,1.18,1.24 less than specified cutoff 1.2: xy11 roi0 t72\n",
      "Intensity high/low percentile ratios 2.13,1.20,1.28 less than specified cutoff 1.2: xy12 roi0 t72\n",
      "Intensity high/low percentile ratios 2.60,1.20,1.30 less than specified cutoff 1.2: xy12 roi1 t72\n",
      "Intensity high/low percentile ratios 2.38,1.20,1.27 less than specified cutoff 1.2: xy12 roi3 t72\n",
      "Intensity high/low percentile ratios 2.11,1.20,1.30 less than specified cutoff 1.2: xy12 roi4 t36\n",
      "Intensity high/low percentile ratios 2.49,1.19,1.29 less than specified cutoff 1.2: xy12 roi4 t72\n",
      "Intensity high/low percentile ratios 2.61,1.20,1.25 less than specified cutoff 1.2: xy13 roi0 t72\n"
     ]
    },
    {
     "name": "stderr",
     "output_type": "stream",
     "text": [
      "/tmp/ipykernel_3516/238470769.py:44: UserWarning: /home/groups/CEDAR/copperma/dyn-cell-sys/makkawi/20240302_OS17lung_RM/cellpose_trainingdata/train166_t37_z8_xy14_roi1.tif is a low contrast image\n",
      "  skimage.io.imsave(fname,imgz.T)\n",
      "/tmp/ipykernel_3516/238470769.py:44: UserWarning: /home/groups/CEDAR/copperma/dyn-cell-sys/makkawi/20240302_OS17lung_RM/cellpose_trainingdata/train172_t1_z4_xy14_roi2.tif is a low contrast image\n",
      "  skimage.io.imsave(fname,imgz.T)\n",
      "/tmp/ipykernel_3516/238470769.py:44: UserWarning: /home/groups/CEDAR/copperma/dyn-cell-sys/makkawi/20240302_OS17lung_RM/cellpose_trainingdata/train174_t1_z4_xy14_roi2.tif is a low contrast image\n",
      "  skimage.io.imsave(fname,imgz.T)\n",
      "/tmp/ipykernel_3516/238470769.py:44: UserWarning: /home/groups/CEDAR/copperma/dyn-cell-sys/makkawi/20240302_OS17lung_RM/cellpose_trainingdata/train175_t1_z4_xy14_roi2.tif is a low contrast image\n",
      "  skimage.io.imsave(fname,imgz.T)\n",
      "/tmp/ipykernel_3516/238470769.py:44: UserWarning: /home/groups/CEDAR/copperma/dyn-cell-sys/makkawi/20240302_OS17lung_RM/cellpose_trainingdata/train176_t1_z4_xy14_roi2.tif is a low contrast image\n",
      "  skimage.io.imsave(fname,imgz.T)\n",
      "/tmp/ipykernel_3516/238470769.py:44: UserWarning: /home/groups/CEDAR/copperma/dyn-cell-sys/makkawi/20240302_OS17lung_RM/cellpose_trainingdata/train177_t37_z5_xy14_roi2.tif is a low contrast image\n",
      "  skimage.io.imsave(fname,imgz.T)\n",
      "/tmp/ipykernel_3516/238470769.py:44: UserWarning: /home/groups/CEDAR/copperma/dyn-cell-sys/makkawi/20240302_OS17lung_RM/cellpose_trainingdata/train178_t37_z5_xy14_roi2.tif is a low contrast image\n",
      "  skimage.io.imsave(fname,imgz.T)\n",
      "/tmp/ipykernel_3516/238470769.py:44: UserWarning: /home/groups/CEDAR/copperma/dyn-cell-sys/makkawi/20240302_OS17lung_RM/cellpose_trainingdata/train179_t37_z5_xy14_roi2.tif is a low contrast image\n",
      "  skimage.io.imsave(fname,imgz.T)\n",
      "/tmp/ipykernel_3516/238470769.py:44: UserWarning: /home/groups/CEDAR/copperma/dyn-cell-sys/makkawi/20240302_OS17lung_RM/cellpose_trainingdata/train180_t37_z5_xy14_roi2.tif is a low contrast image\n",
      "  skimage.io.imsave(fname,imgz.T)\n",
      "/tmp/ipykernel_3516/238470769.py:44: UserWarning: /home/groups/CEDAR/copperma/dyn-cell-sys/makkawi/20240302_OS17lung_RM/cellpose_trainingdata/train181_t37_z5_xy14_roi2.tif is a low contrast image\n",
      "  skimage.io.imsave(fname,imgz.T)\n",
      "/tmp/ipykernel_3516/238470769.py:44: UserWarning: /home/groups/CEDAR/copperma/dyn-cell-sys/makkawi/20240302_OS17lung_RM/cellpose_trainingdata/train187_t1_z2_xy15_roi0.tif is a low contrast image\n",
      "  skimage.io.imsave(fname,imgz.T)\n",
      "/tmp/ipykernel_3516/238470769.py:44: UserWarning: /home/groups/CEDAR/copperma/dyn-cell-sys/makkawi/20240302_OS17lung_RM/cellpose_trainingdata/train188_t1_z2_xy15_roi0.tif is a low contrast image\n",
      "  skimage.io.imsave(fname,imgz.T)\n",
      "/tmp/ipykernel_3516/238470769.py:44: UserWarning: /home/groups/CEDAR/copperma/dyn-cell-sys/makkawi/20240302_OS17lung_RM/cellpose_trainingdata/train189_t1_z2_xy15_roi0.tif is a low contrast image\n",
      "  skimage.io.imsave(fname,imgz.T)\n",
      "/tmp/ipykernel_3516/238470769.py:44: UserWarning: /home/groups/CEDAR/copperma/dyn-cell-sys/makkawi/20240302_OS17lung_RM/cellpose_trainingdata/train190_t1_z2_xy15_roi0.tif is a low contrast image\n",
      "  skimage.io.imsave(fname,imgz.T)\n"
     ]
    },
    {
     "name": "stdout",
     "output_type": "stream",
     "text": [
      "Intensity high/low percentile ratios 2.26,1.19,1.25 less than specified cutoff 1.2: xy14 roi0 t72\n"
     ]
    },
    {
     "name": "stderr",
     "output_type": "stream",
     "text": [
      "/tmp/ipykernel_3516/238470769.py:44: UserWarning: /home/groups/CEDAR/copperma/dyn-cell-sys/makkawi/20240302_OS17lung_RM/cellpose_trainingdata/train194_t1_z4_xy15_roi1.tif is a low contrast image\n",
      "  skimage.io.imsave(fname,imgz.T)\n",
      "/tmp/ipykernel_3516/238470769.py:44: UserWarning: /home/groups/CEDAR/copperma/dyn-cell-sys/makkawi/20240302_OS17lung_RM/cellpose_trainingdata/train195_t1_z4_xy15_roi1.tif is a low contrast image\n",
      "  skimage.io.imsave(fname,imgz.T)\n",
      "/tmp/ipykernel_3516/238470769.py:44: UserWarning: /home/groups/CEDAR/copperma/dyn-cell-sys/makkawi/20240302_OS17lung_RM/cellpose_trainingdata/train196_t1_z4_xy15_roi1.tif is a low contrast image\n",
      "  skimage.io.imsave(fname,imgz.T)\n",
      "/tmp/ipykernel_3516/238470769.py:44: UserWarning: /home/groups/CEDAR/copperma/dyn-cell-sys/makkawi/20240302_OS17lung_RM/cellpose_trainingdata/train197_t1_z4_xy15_roi1.tif is a low contrast image\n",
      "  skimage.io.imsave(fname,imgz.T)\n",
      "/tmp/ipykernel_3516/238470769.py:44: UserWarning: /home/groups/CEDAR/copperma/dyn-cell-sys/makkawi/20240302_OS17lung_RM/cellpose_trainingdata/train198_t1_z4_xy15_roi1.tif is a low contrast image\n",
      "  skimage.io.imsave(fname,imgz.T)\n"
     ]
    },
    {
     "name": "stdout",
     "output_type": "stream",
     "text": [
      "Intensity high/low percentile ratios 1.56,1.17,1.21 less than specified cutoff 1.2: xy15 roi0 t36\n",
      "Intensity high/low percentile ratios 1.54,1.17,1.20 less than specified cutoff 1.2: xy15 roi0 t72\n",
      "Intensity high/low percentile ratios 1.85,1.18,1.22 less than specified cutoff 1.2: xy15 roi1 t36\n",
      "Intensity high/low percentile ratios 1.85,1.17,1.21 less than specified cutoff 1.2: xy15 roi1 t72\n",
      "Intensity high/low percentile ratios 2.08,1.19,1.24 less than specified cutoff 1.2: xy15 roi2 t36\n",
      "Intensity high/low percentile ratios 2.03,1.18,1.22 less than specified cutoff 1.2: xy15 roi2 t72\n"
     ]
    },
    {
     "name": "stderr",
     "output_type": "stream",
     "text": [
      "/tmp/ipykernel_3516/238470769.py:44: UserWarning: /home/groups/CEDAR/copperma/dyn-cell-sys/makkawi/20240302_OS17lung_RM/cellpose_trainingdata/train219_t1_z17_xy16_roi3.tif is a low contrast image\n",
      "  skimage.io.imsave(fname,imgz.T)\n",
      "/tmp/ipykernel_3516/238470769.py:44: UserWarning: /home/groups/CEDAR/copperma/dyn-cell-sys/makkawi/20240302_OS17lung_RM/cellpose_trainingdata/train220_t1_z17_xy16_roi3.tif is a low contrast image\n",
      "  skimage.io.imsave(fname,imgz.T)\n",
      "/tmp/ipykernel_3516/238470769.py:44: UserWarning: /home/groups/CEDAR/copperma/dyn-cell-sys/makkawi/20240302_OS17lung_RM/cellpose_trainingdata/train221_t1_z17_xy16_roi3.tif is a low contrast image\n",
      "  skimage.io.imsave(fname,imgz.T)\n",
      "/tmp/ipykernel_3516/238470769.py:44: UserWarning: /home/groups/CEDAR/copperma/dyn-cell-sys/makkawi/20240302_OS17lung_RM/cellpose_trainingdata/train222_t1_z17_xy16_roi3.tif is a low contrast image\n",
      "  skimage.io.imsave(fname,imgz.T)\n"
     ]
    },
    {
     "name": "stdout",
     "output_type": "stream",
     "text": [
      "Intensity high/low percentile ratios 2.44,1.20,1.26 less than specified cutoff 1.2: xy15 roi3 t36\n",
      "Intensity high/low percentile ratios 2.76,1.19,1.24 less than specified cutoff 1.2: xy15 roi3 t72\n",
      "Intensity high/low percentile ratios 1.41,1.19,1.28 less than specified cutoff 1.2: xy16 roi0 t0\n",
      "Intensity high/low percentile ratios 1.39,1.17,1.24 less than specified cutoff 1.2: xy16 roi0 t36\n",
      "Intensity high/low percentile ratios 1.50,1.17,1.22 less than specified cutoff 1.2: xy16 roi0 t72\n",
      "Intensity high/low percentile ratios 1.83,1.18,1.22 less than specified cutoff 1.2: xy16 roi1 t0\n",
      "Intensity high/low percentile ratios 2.24,1.18,1.25 less than specified cutoff 1.2: xy16 roi1 t36\n",
      "Intensity high/low percentile ratios 2.27,1.17,1.23 less than specified cutoff 1.2: xy16 roi1 t72\n"
     ]
    },
    {
     "name": "stderr",
     "output_type": "stream",
     "text": [
      "/tmp/ipykernel_3516/238470769.py:44: UserWarning: /home/groups/CEDAR/copperma/dyn-cell-sys/makkawi/20240302_OS17lung_RM/cellpose_trainingdata/train223_t1_z7_xy18_roi0.tif is a low contrast image\n",
      "  skimage.io.imsave(fname,imgz.T)\n",
      "/tmp/ipykernel_3516/238470769.py:44: UserWarning: /home/groups/CEDAR/copperma/dyn-cell-sys/makkawi/20240302_OS17lung_RM/cellpose_trainingdata/train224_t1_z7_xy18_roi0.tif is a low contrast image\n",
      "  skimage.io.imsave(fname,imgz.T)\n",
      "/tmp/ipykernel_3516/238470769.py:44: UserWarning: /home/groups/CEDAR/copperma/dyn-cell-sys/makkawi/20240302_OS17lung_RM/cellpose_trainingdata/train225_t1_z7_xy18_roi0.tif is a low contrast image\n",
      "  skimage.io.imsave(fname,imgz.T)\n",
      "/tmp/ipykernel_3516/238470769.py:44: UserWarning: /home/groups/CEDAR/copperma/dyn-cell-sys/makkawi/20240302_OS17lung_RM/cellpose_trainingdata/train226_t1_z7_xy18_roi0.tif is a low contrast image\n",
      "  skimage.io.imsave(fname,imgz.T)\n",
      "/tmp/ipykernel_3516/238470769.py:44: UserWarning: /home/groups/CEDAR/copperma/dyn-cell-sys/makkawi/20240302_OS17lung_RM/cellpose_trainingdata/train227_t1_z7_xy18_roi0.tif is a low contrast image\n",
      "  skimage.io.imsave(fname,imgz.T)\n"
     ]
    },
    {
     "name": "stdout",
     "output_type": "stream",
     "text": [
      "Intensity high/low percentile ratios 2.75,1.19,1.26 less than specified cutoff 1.2: xy17 roi0 t36\n",
      "Intensity high/low percentile ratios 2.85,1.18,1.24 less than specified cutoff 1.2: xy17 roi0 t72\n",
      "Intensity high/low percentile ratios 2.68,1.20,1.25 less than specified cutoff 1.2: xy17 roi1 t72\n",
      "Intensity high/low percentile ratios 2.16,1.18,1.25 less than specified cutoff 1.2: xy18 roi0 t36\n",
      "Intensity high/low percentile ratios 2.17,1.18,1.23 less than specified cutoff 1.2: xy18 roi0 t72\n"
     ]
    },
    {
     "name": "stderr",
     "output_type": "stream",
     "text": [
      "/tmp/ipykernel_3516/238470769.py:44: UserWarning: /home/groups/CEDAR/copperma/dyn-cell-sys/makkawi/20240302_OS17lung_RM/cellpose_trainingdata/train248_t37_z1_xy19_roi1.tif is a low contrast image\n",
      "  skimage.io.imsave(fname,imgz.T)\n",
      "/tmp/ipykernel_3516/238470769.py:44: UserWarning: /home/groups/CEDAR/copperma/dyn-cell-sys/makkawi/20240302_OS17lung_RM/cellpose_trainingdata/train249_t37_z1_xy19_roi1.tif is a low contrast image\n",
      "  skimage.io.imsave(fname,imgz.T)\n",
      "/tmp/ipykernel_3516/238470769.py:44: UserWarning: /home/groups/CEDAR/copperma/dyn-cell-sys/makkawi/20240302_OS17lung_RM/cellpose_trainingdata/train250_t37_z1_xy19_roi1.tif is a low contrast image\n",
      "  skimage.io.imsave(fname,imgz.T)\n"
     ]
    },
    {
     "name": "stdout",
     "output_type": "stream",
     "text": [
      "Intensity high/low percentile ratios 2.28,1.19,1.29 less than specified cutoff 1.2: xy18 roi1 t72\n",
      "Intensity high/low percentile ratios 2.53,1.19,1.22 less than specified cutoff 1.2: xy19 roi0 t36\n",
      "Intensity high/low percentile ratios 2.61,1.18,1.21 less than specified cutoff 1.2: xy19 roi0 t72\n"
     ]
    },
    {
     "name": "stderr",
     "output_type": "stream",
     "text": [
      "/tmp/ipykernel_3516/238470769.py:44: UserWarning: /home/groups/CEDAR/copperma/dyn-cell-sys/makkawi/20240302_OS17lung_RM/cellpose_trainingdata/train254_t1_z8_xy20_roi1.tif is a low contrast image\n",
      "  skimage.io.imsave(fname,imgz.T)\n",
      "/tmp/ipykernel_3516/238470769.py:44: UserWarning: /home/groups/CEDAR/copperma/dyn-cell-sys/makkawi/20240302_OS17lung_RM/cellpose_trainingdata/train255_t1_z8_xy20_roi1.tif is a low contrast image\n",
      "  skimage.io.imsave(fname,imgz.T)\n",
      "/tmp/ipykernel_3516/238470769.py:44: UserWarning: /home/groups/CEDAR/copperma/dyn-cell-sys/makkawi/20240302_OS17lung_RM/cellpose_trainingdata/train256_t1_z8_xy20_roi1.tif is a low contrast image\n",
      "  skimage.io.imsave(fname,imgz.T)\n",
      "/tmp/ipykernel_3516/238470769.py:44: UserWarning: /home/groups/CEDAR/copperma/dyn-cell-sys/makkawi/20240302_OS17lung_RM/cellpose_trainingdata/train257_t1_z8_xy20_roi1.tif is a low contrast image\n",
      "  skimage.io.imsave(fname,imgz.T)\n",
      "/tmp/ipykernel_3516/238470769.py:44: UserWarning: /home/groups/CEDAR/copperma/dyn-cell-sys/makkawi/20240302_OS17lung_RM/cellpose_trainingdata/train258_t1_z8_xy20_roi1.tif is a low contrast image\n",
      "  skimage.io.imsave(fname,imgz.T)\n"
     ]
    },
    {
     "name": "stdout",
     "output_type": "stream",
     "text": [
      "Intensity high/low percentile ratios 3.27,1.20,1.25 less than specified cutoff 1.2: xy19 roi1 t36\n",
      "Intensity high/low percentile ratios 3.26,1.19,1.23 less than specified cutoff 1.2: xy19 roi1 t72\n",
      "Intensity high/low percentile ratios 2.22,1.20,1.24 less than specified cutoff 1.2: xy19 roi2 t0\n",
      "Intensity high/low percentile ratios 2.24,1.18,1.22 less than specified cutoff 1.2: xy19 roi2 t36\n",
      "Intensity high/low percentile ratios 2.24,1.18,1.20 less than specified cutoff 1.2: xy19 roi2 t72\n"
     ]
    }
   ],
   "source": [
    "for ixy in ind_xy:\n",
    "    imagelist = imprep.list_images(f'{datapath}/{modelName}_XY{ixy}_roi*.tif') #get list of all ROI images per XY\n",
    "    n_rois=len(imagelist)\n",
    "    for i_roi in range(n_rois):\n",
    "        imgs_roi=skimage.io.imread(imagelist[i_roi])\n",
    "        nt_roi,nz_roi,nx_roi,ny_roi,nchannels_roi=imgs_roi.shape\n",
    "        train_frames=np.linspace(0,nt_roi-1,nt_train).astype(int)\n",
    "        for itt in range(0,nt_train):\n",
    "            iS=train_frames[itt]\n",
    "            img=imgs_roi[iS,...].astype(float)\n",
    "            int_low=np.percentile(img,highlow_perc,axis=(0,1,2))\n",
    "            int_high=np.percentile(img,100.-highlow_perc,axis=(0,1,2))\n",
    "            int_ratio=np.divide(int_high,int_low) #estimate of the intensity variation in the channel\n",
    "            im3d_nuc=rescale_to_int(imprep.znorm(img[...,nuc_channel]))\n",
    "            im3d_rep=rescale_to_int(imprep.znorm(img[...,rep_channel]))\n",
    "            im3d_bf=imprep.znorm(img[...,bf_channel])\n",
    "            im3d_bf=skimage.filters.difference_of_gaussians(im3d_bf,.5,1.5)\n",
    "            im3d_bf=rescale_to_int(im3d_bf)\n",
    "            cellpose_img=np.zeros((nz_roi,3,nx_roi,ny_roi)).astype(np.uint16)\n",
    "            cellpose_img[:,0,:,:]=im3d_bf #.5*(im3d_rep+im3d_nuc) #add in nuc so not hollow\n",
    "            cellpose_img[:,1,:,:]=im3d_rep\n",
    "            cellpose_img[:,2,:,:]=im3d_nuc\n",
    "            try:\n",
    "                if (int_ratio<int_cut).any(): #extract slices from rois with meaningful intensity variation\n",
    "                    raise Exception(f\"Intensity high/low percentile ratios {int_ratio[0]:.2f},{int_ratio[1]:.2f},{int_ratio[2]:.2f} less than specified cutoff {int_cut}: xy{ixy} roi{i_roi} t{iS}\")\n",
    "                    if visual:\n",
    "                        clear_output(wait=True);plt.clf();plt.imshow(np.max(cellpose_img[:,0,:,:],axis=0));plt.pause(.5);\n",
    "                indsz=np.argsort(np.mean(im3d_nuc,axis=(1,2)))[-2*nz_random:] #np.where(np.mean(im3d_nuc,axis=(1,2))>np.mean(im3d_nuc)+.1*np.std(im3d_nuc))[0]\n",
    "                z_inds=np.random.choice(indsz,size=nz_random,replace=False).astype(int)\n",
    "                indsx=np.argsort(np.mean(im3d_nuc,axis=(0,2)))[-2*nlateral_random:] #np.where(np.mean(im3d_nuc,axis=(0,2))>np.mean(im3d_nuc)+.1*np.std(im3d_nuc))[0]\n",
    "                x_inds=np.random.choice(indsx,size=nlateral_random,replace=False).astype(int)\n",
    "                indsy=np.argsort(np.mean(im3d_nuc,axis=(0,1)))[-2*nz_random:] #np.where(np.mean(im3d_nuc,axis=(0,1))>np.mean(im3d_nuc)+.1.*np.std(im3d_nuc))[0]\n",
    "                y_inds=np.random.choice(indsy,size=nlateral_random,replace=False).astype(int)\n",
    "                ix=np.argsort(np.sum(np.sum(im3d_nuc,axis=2),axis=0))[-1]\n",
    "                iy=np.argsort(np.sum(np.sum(im3d_nuc,axis=1),axis=0))[-1]\n",
    "                imgsz=[None]*nz_random\n",
    "                for iz in range(nz_random):\n",
    "                    zrange=np.arange(z_inds[iz]-nz_contiguous,z_inds[iz]+nz_contiguous+1)\n",
    "                    zrange=zrange[zrange>=0];zrange=zrange[zrange<nz_roi]\n",
    "                    imgsz[iz]=cellpose_img[z_inds[iz],:,:,:]\n",
    "                    for izc in zrange:\n",
    "                        imgz=cellpose_img[izc,:,:,:]\n",
    "                        fname=f'{trainpath}/train{itrain}_t{iS+1}_z{z_inds[iz]+1}_xy{ixy+1}_roi{i_roi}.tif'\n",
    "                        skimage.io.imsave(fname,imgz.T)\n",
    "                        itrain=itrain+1\n",
    "                for ilat in range(nlateral_random):\n",
    "                    ix=x_inds[ilat]\n",
    "                    iy=y_inds[ilat]\n",
    "                    imgy=cellpose_img[:,:,:,iy]\n",
    "                    imgy=skimage.transform.rescale(imgy,(zscale,1,1),anti_aliasing=False)\n",
    "                    imgy=np.swapaxes(imgy,1,0)\n",
    "                    fname=f'{trainpath}/train{itrain}_t{iS+1}_y{iy+1}_xy{ixy+1}_roi{i_roi}.tif'\n",
    "                    skimage.io.imsave(fname,imgy.T)\n",
    "                    itrain=itrain+1\n",
    "                    imgx=cellpose_img[:,:,ix,:]\n",
    "                    imgx=skimage.transform.rescale(imgx,(zscale,1,1),anti_aliasing=False)\n",
    "                    imgx=np.swapaxes(imgx,1,0)\n",
    "                    fname=f'{trainpath}/train{itrain}_t{iS+1}_x{ix+1}_xy{ixy+1}_roi{i_roi}.tif'\n",
    "                    skimage.io.imsave(fname,imgx.T)\n",
    "                    itrain=itrain+1\n",
    "                    if visual:\n",
    "                        clear_output(wait=True);plt.clf()\n",
    "                        for iz in range(nz_random):\n",
    "                            plt.subplot(1,3,1)\n",
    "                            show_image_3channel(imgsz[iz][2,...],imgsz[iz][1,...],imgsz[iz][0,...]);plt.axis('off')\n",
    "                            plt.subplot(1,3,2)\n",
    "                            show_image_3channel(imgx[2,...],imgx[1,...],imgx[0,...]);plt.axis('off')\n",
    "                            plt.subplot(1,3,3)\n",
    "                            show_image_3channel(imgy[2,...],imgy[1,...],imgy[0,...]);plt.axis('off')\n",
    "                            plt.pause(.1)\n",
    "            except Exception as e:\n",
    "                print(e)"
   ]
  },
  {
   "cell_type": "code",
   "execution_count": 10,
   "id": "07832839-59ea-4b19-b8b8-c6f9f1c8a36d",
   "metadata": {},
   "outputs": [
    {
     "data": {
      "text/plain": [
       "array([[[[28123, 25132, 22899, ..., 29370, 25446, 30083],\n",
       "         [ 1419, 26806, 31505, ..., 29420, 21355, 25731],\n",
       "         [32290, 25681, 26328, ...,  2116, 28359, 25371],\n",
       "         ...,\n",
       "         [24637, 27628, 25068, ...,   202, 29592, 23050],\n",
       "         [23013, 18593, 28753, ..., 31216, 24293, 23784],\n",
       "         [21393, 27096,  1772, ..., 20234, 31455, 27951]],\n",
       "\n",
       "        [[30136, 20569, 25831, ..., 31093, 33485, 25352],\n",
       "         [39703, 23917, 35876, ..., 29658, 11480, 25352],\n",
       "         [35398, 26788, 22961, ..., 34441, 23439, 21047],\n",
       "         ...,\n",
       "         [20091, 29658, 29658, ..., 30614, 32049, 21526],\n",
       "         [15307, 17220, 26788, ..., 36833, 15307, 22482],\n",
       "         [17699, 22961, 29658, ..., 21526, 37311, 27744]],\n",
       "\n",
       "        [[14069, 13189, 11824, ..., 12393, 10109, 14237],\n",
       "         [11832, 13278, 12066, ..., 13153,  9603, 12353],\n",
       "         [13591, 12881, 12414, ..., 13152, 12342, 13550],\n",
       "         ...,\n",
       "         [15803, 15548, 13557, ..., 12716, 12852, 12273],\n",
       "         [13016, 12627, 11646, ..., 12613, 12008, 12212],\n",
       "         [11761, 12857, 12838, ..., 13806, 13050, 14087]]],\n",
       "\n",
       "\n",
       "       [[[31300, 31107, 28413, ..., 29265,  1877, 30650],\n",
       "         [24485, 29450, 29676, ..., 28581, 27813, 23444],\n",
       "         [ 7533, 26311, 23784, ..., 23272, 23151,  1398],\n",
       "         ...,\n",
       "         [27712, 28534, 31660, ..., 30070, 19206, 32526],\n",
       "         [25475, 28106,   290, ..., 24603, 28396, 24519],\n",
       "         [28669,   513, 24758, ..., 24468, 27783, 29781]],\n",
       "\n",
       "        [[34441, 25352, 29179, ..., 26788, 33963, 31093],\n",
       "         [24396, 21526, 29658, ..., 24396, 24396, 24874],\n",
       "         [47835, 23439, 22482, ..., 22482, 18655, 33006],\n",
       "         ...,\n",
       "         [27266, 33006, 38746, ..., 33006, 14350, 28701],\n",
       "         [25352, 30614, 35398, ..., 21047, 29658, 23439],\n",
       "         [29179, 36355, 23917, ..., 24874, 32528, 33963]],\n",
       "\n",
       "        [[12906, 11484, 13464, ..., 11701, 13177, 12552],\n",
       "         [10377, 11316, 11975, ..., 11364, 13522, 12270],\n",
       "         [11872, 12798, 11972, ..., 12166, 12842, 12404],\n",
       "         ...,\n",
       "         [12290, 10731, 13151, ..., 12389, 12880, 12945],\n",
       "         [12324, 11378, 12345, ..., 13593, 12181, 11308],\n",
       "         [12871, 13440, 13328, ..., 12424, 11507, 12597]]],\n",
       "\n",
       "\n",
       "       [[[25866, 30683,  1961, ..., 26466, 28531, 25358],\n",
       "         [30956,  2170, 26961, ..., 29882, 26671, 31300],\n",
       "         [20197,  4184, 29730, ..., 31468, 28568, 26810],\n",
       "         ...,\n",
       "         [30582, 29831, 26399, ..., 19089, 27045, 21208],\n",
       "         [29848, 21309, 24435, ..., 29046, 29198, 28942],\n",
       "         [26143, 28925, 24468, ..., 28433, 28295, 26826]],\n",
       "\n",
       "        [[21526, 30136, 31571, ..., 26309, 25831, 28701],\n",
       "         [29658, 40182, 26788, ..., 31093, 27744, 34441],\n",
       "         [15307, 41138, 35398, ..., 29658, 32049, 31093],\n",
       "         ...,\n",
       "         [33006, 32528, 28223, ..., 17699, 24396, 22961],\n",
       "         [32049, 20091, 25831, ..., 33006, 28701, 28701],\n",
       "         [28223, 29179, 24874, ..., 35876, 32528, 30614]],\n",
       "\n",
       "        [[13404, 11320, 12416, ..., 16080, 13176, 12080],\n",
       "         [12737, 12630, 11988, ..., 13060, 12862, 12263],\n",
       "         [13336, 12980, 13285, ..., 12336, 10971, 11933],\n",
       "         ...,\n",
       "         [10777, 10875, 12211, ..., 12091, 12378, 12633],\n",
       "         [11336, 12522, 12084, ..., 12582, 11551, 12117],\n",
       "         [11236, 12010, 12641, ..., 12573, 13543, 13211]]],\n",
       "\n",
       "\n",
       "       ...,\n",
       "\n",
       "\n",
       "       [[[  122, 30033, 26516, ..., 24334, 25694, 28346],\n",
       "         [31539, 27406, 29114, ..., 31539, 25219, 23256],\n",
       "         [28518, 27574, 23939, ..., 31216, 29269, 30939],\n",
       "         ...,\n",
       "         [30104, 26227, 24313, ..., 25064,   755, 22727],\n",
       "         [21157, 25064, 24721, ..., 30650, 25580, 32139],\n",
       "         [27867, 27062,  6115, ..., 25048, 31334, 28123]],\n",
       "\n",
       "        [[40182, 26788, 24874, ..., 28701, 19134, 31093],\n",
       "         [34920, 28701, 31093, ..., 34920, 25352, 22961],\n",
       "         [33485, 23917, 25352, ..., 36833, 33963, 30136],\n",
       "         ...,\n",
       "         [32049, 25831, 22004, ..., 22482, 44008, 23439],\n",
       "         [24396, 22482, 17699, ..., 31093, 29658, 39703],\n",
       "         [30136, 23917, 44487, ..., 22961, 33485, 30136]],\n",
       "\n",
       "        [[11698, 11629, 11981, ..., 13484, 12411, 12715],\n",
       "         [13339, 11482, 13857, ..., 14400, 14123, 15171],\n",
       "         [14459, 12259, 14292, ..., 13751, 14190, 12354],\n",
       "         ...,\n",
       "         [10911, 11423, 10957, ..., 12638, 12934, 12629],\n",
       "         [13140, 10927, 11793, ..., 13211, 12793, 12773],\n",
       "         [11759, 10024, 12986, ..., 12920, 13560, 13450]]],\n",
       "\n",
       "\n",
       "       [[[26911, 22760, 31128, ..., 25081, 27284, 30020],\n",
       "         [29194,  2325, 27197, ..., 28602, 25715, 24330],\n",
       "         [29865, 28346, 26789, ..., 23067, 25149, 25937],\n",
       "         ...,\n",
       "         [27817, 22215, 26348, ..., 31074, 29848, 29592],\n",
       "         [30003, 19500, 23751, ..., 25203, 27183, 29562],\n",
       "         [24128, 27183, 22899, ..., 32735, 29558, 26412]],\n",
       "\n",
       "        [[28223, 22482, 32049, ..., 22004, 24874, 34441],\n",
       "         [21526, 43052, 20091, ..., 31093, 25831, 21526],\n",
       "         [31571, 31093, 24396, ..., 21047, 20091, 26788],\n",
       "         ...,\n",
       "         [31571, 23439, 29658, ..., 26309, 32049, 32049],\n",
       "         [34920, 20569, 23439, ..., 25831, 27744, 40182],\n",
       "         [27266, 27744, 25831, ..., 37311, 33006, 20569]],\n",
       "\n",
       "        [[11713, 11990, 13032, ..., 11196, 12614, 11662],\n",
       "         [10268, 10698, 11611, ..., 11229, 11071, 13436],\n",
       "         [12207, 13015, 13958, ..., 13841, 14207, 12792],\n",
       "         ...,\n",
       "         [14016, 13656, 12678, ..., 13434, 14307, 13131],\n",
       "         [13002, 12495, 13409, ..., 15558, 14431, 12624],\n",
       "         [11509, 11042, 13881, ..., 13170, 13267, 13802]]],\n",
       "\n",
       "\n",
       "       [[[29915, 26382, 31128, ..., 30083, 28841, 26365],\n",
       "         [24536, 27234,  1335, ..., 32159, 26860, 24078],\n",
       "         [28686, 28275, 22777, ..., 23579, 22689, 32202],\n",
       "         ...,\n",
       "         [31401, 24980, 22009, ..., 22878, 23427, 27594],\n",
       "         [27146, 23134, 25530, ..., 31266, 30956, 28689],\n",
       "         [25034, 28787, 30788, ..., 32051, 24212,   425]],\n",
       "\n",
       "        [[30136, 28701, 32049, ..., 25352, 31571, 29179],\n",
       "         [22961, 26309, 42095, ..., 46400, 29658, 28701],\n",
       "         [28701, 25831, 22004, ..., 21047, 17220, 30614],\n",
       "         ...,\n",
       "         [31571, 24874, 22004, ..., 19134, 25352, 30614],\n",
       "         [21526, 19134, 31093, ..., 35398, 29658, 35876],\n",
       "         [30614, 25831, 34441, ..., 34920, 24874, 31571]],\n",
       "\n",
       "        [[13712, 13506, 13435, ..., 14461, 13732, 12487],\n",
       "         [12153, 12275, 12387, ..., 13045, 10391, 10980],\n",
       "         [12159, 12251, 13944, ..., 11390, 13764, 13562],\n",
       "         ...,\n",
       "         [13189, 12646, 13421, ..., 12023, 13128, 12074],\n",
       "         [12276, 13159, 13390, ..., 14087, 13888, 13904],\n",
       "         [12994, 13050, 12254, ..., 12645, 12730, 12652]]]], dtype=uint16)"
      ]
     },
     "execution_count": 10,
     "metadata": {},
     "output_type": "execute_result"
    }
   ],
   "source": [
    "cellpose_img"
   ]
  },
  {
   "cell_type": "code",
   "execution_count": null,
   "id": "a20b0d47-0e9f-4bc2-846e-90226678103c",
   "metadata": {},
   "outputs": [],
   "source": []
  }
 ],
 "metadata": {
  "kernelspec": {
   "display_name": "cellpose",
   "language": "python",
   "name": "cellpose"
  },
  "language_info": {
   "codemirror_mode": {
    "name": "ipython",
    "version": 3
   },
   "file_extension": ".py",
   "mimetype": "text/x-python",
   "name": "python",
   "nbconvert_exporter": "python",
   "pygments_lexer": "ipython3",
   "version": "3.8.17"
  }
 },
 "nbformat": 4,
 "nbformat_minor": 5
}
