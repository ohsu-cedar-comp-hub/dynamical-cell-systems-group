{
 "cells": [
  {
   "cell_type": "markdown",
   "id": "85f4c85c-5f91-4569-b08e-ef9745ecc313",
   "metadata": {},
   "source": [
    "## Track and featurize cells after segmentation"
   ]
  },
  {
   "cell_type": "markdown",
   "id": "1cb622d8-b1cb-4575-ac79-55cb5eecf6e7",
   "metadata": {},
   "source": [
    "Load segmentation h5 files, track cells between frames, calculate features, save to h5"
   ]
  },
  {
   "cell_type": "code",
   "execution_count": 1,
   "id": "73ae1fbb-d3b7-4f68-b883-1f52e5dab55b",
   "metadata": {},
   "outputs": [],
   "source": [
    "%%capture\n",
    "import numpy as np\n",
    "import matplotlib.pyplot as plt\n",
    "import sys\n",
    "sys.path.append('/home/groups/ZuckermanLab/copperma/cell/celltraj/celltraj')\n",
    "import os\n",
    "import imageprep as imprep\n",
    "import trajectory\n",
    "import utilities\n",
    "import features\n",
    "import cmapfile\n",
    "import pathlib\n",
    "from skimage import transform as tf\n",
    "import skimage.filters\n",
    "from skimage.measure import regionprops_table\n",
    "from IPython.display import clear_output\n",
    "import os"
   ]
  },
  {
   "cell_type": "markdown",
   "id": "b2ea4c74-fa2e-45ad-8134-c54488795778",
   "metadata": {},
   "source": [
    "##### Specify segmentation model files"
   ]
  },
  {
   "cell_type": "code",
   "execution_count": 43,
   "id": "22a72644-5036-49f5-a2a3-d65ee039516d",
   "metadata": {},
   "outputs": [
    {
     "name": "stdout",
     "output_type": "stream",
     "text": [
      "['/home/groups/CEDAR/copperma/dyn-cell-sys/Vaibhav/240213_ms_lung_w_t4_VM/20240213_T4lung_VM_xy0_roi0.h5', '/home/groups/CEDAR/copperma/dyn-cell-sys/Vaibhav/240213_ms_lung_w_t4_VM/20240213_T4lung_VM_xy10_roi0.h5', '/home/groups/CEDAR/copperma/dyn-cell-sys/Vaibhav/240213_ms_lung_w_t4_VM/20240213_T4lung_VM_xy13_roi0.h5', '/home/groups/CEDAR/copperma/dyn-cell-sys/Vaibhav/240213_ms_lung_w_t4_VM/20240213_T4lung_VM_xy14_roi0.h5', '/home/groups/CEDAR/copperma/dyn-cell-sys/Vaibhav/240213_ms_lung_w_t4_VM/20240213_T4lung_VM_xy1_roi0.h5', '/home/groups/CEDAR/copperma/dyn-cell-sys/Vaibhav/240213_ms_lung_w_t4_VM/20240213_T4lung_VM_xy2_roi0.h5', '/home/groups/CEDAR/copperma/dyn-cell-sys/Vaibhav/240213_ms_lung_w_t4_VM/20240213_T4lung_VM_xy3_roi0.h5', '/home/groups/CEDAR/copperma/dyn-cell-sys/Vaibhav/240213_ms_lung_w_t4_VM/20240213_T4lung_VM_xy4_roi0.h5', '/home/groups/CEDAR/copperma/dyn-cell-sys/Vaibhav/240213_ms_lung_w_t4_VM/20240213_T4lung_VM_xy5_roi0.h5', '/home/groups/CEDAR/copperma/dyn-cell-sys/Vaibhav/240213_ms_lung_w_t4_VM/20240213_T4lung_VM_xy6_roi0.h5', '/home/groups/CEDAR/copperma/dyn-cell-sys/Vaibhav/240213_ms_lung_w_t4_VM/20240213_T4lung_VM_xy7_roi0.h5', '/home/groups/CEDAR/copperma/dyn-cell-sys/Vaibhav/240213_ms_lung_w_t4_VM/20240213_T4lung_VM_xy8_roi0.h5', '/home/groups/CEDAR/copperma/dyn-cell-sys/Vaibhav/240213_ms_lung_w_t4_VM/20240213_T4lung_VM_xy9_roi0.h5']\n"
     ]
    }
   ],
   "source": [
    "date = '2024.03.18'\n",
    "modelName = f'20240213_T4lung_VM' #results will be saved/named using this string\n",
    "datapath='/home/groups/CEDAR/copperma/dyn-cell-sys/Vaibhav/240213_ms_lung_w_t4_VM'\n",
    "modelList = imprep.list_images(f'{datapath}/{modelName}_xy*_roi*.h5')\n",
    "print(modelList)"
   ]
  },
  {
   "cell_type": "code",
   "execution_count": 44,
   "id": "e1633645-030b-4abe-b3c4-32e37055f56e",
   "metadata": {},
   "outputs": [
    {
     "name": "stdout",
     "output_type": "stream",
     "text": [
      "['/home/groups/CEDAR/copperma/dyn-cell-sys/Vaibhav/240213_ms_lung_w_t4_VM/20240213_T4lung_VM_xy10_roi0.h5'\n",
      " '/home/groups/CEDAR/copperma/dyn-cell-sys/Vaibhav/240213_ms_lung_w_t4_VM/20240213_T4lung_VM_xy13_roi0.h5'\n",
      " '/home/groups/CEDAR/copperma/dyn-cell-sys/Vaibhav/240213_ms_lung_w_t4_VM/20240213_T4lung_VM_xy14_roi0.h5'\n",
      " '/home/groups/CEDAR/copperma/dyn-cell-sys/Vaibhav/240213_ms_lung_w_t4_VM/20240213_T4lung_VM_xy4_roi0.h5'\n",
      " '/home/groups/CEDAR/copperma/dyn-cell-sys/Vaibhav/240213_ms_lung_w_t4_VM/20240213_T4lung_VM_xy5_roi0.h5'\n",
      " '/home/groups/CEDAR/copperma/dyn-cell-sys/Vaibhav/240213_ms_lung_w_t4_VM/20240213_T4lung_VM_xy6_roi0.h5'\n",
      " '/home/groups/CEDAR/copperma/dyn-cell-sys/Vaibhav/240213_ms_lung_w_t4_VM/20240213_T4lung_VM_xy7_roi0.h5'\n",
      " '/home/groups/CEDAR/copperma/dyn-cell-sys/Vaibhav/240213_ms_lung_w_t4_VM/20240213_T4lung_VM_xy8_roi0.h5'\n",
      " '/home/groups/CEDAR/copperma/dyn-cell-sys/Vaibhav/240213_ms_lung_w_t4_VM/20240213_T4lung_VM_xy9_roi0.h5']\n"
     ]
    }
   ],
   "source": [
    "modelList=np.array(modelList)[[1,2,3,7,8,9,10,11,12]];print(modelList)"
   ]
  },
  {
   "cell_type": "code",
   "execution_count": 5,
   "id": "794ca385-d94a-453c-b82e-b23d4ebb1fcc",
   "metadata": {},
   "outputs": [],
   "source": [
    "#some convenience visualization functions here, eventually these will be incorporated into the packages....\n",
    "def show_image_3channel(bf_img,nuc_img,rep_img,ax=None):\n",
    "        if ax is None:\n",
    "            ax=plt.gca()\n",
    "        ax.imshow(imprep.znorm(bf_img),cmap=plt.cm.binary,clim=(-5,5))\n",
    "        cs=ax.contour(imprep.znorm(nuc_img),cmap=plt.cm.BuPu,levels=np.linspace(0,np.percentile(imprep.znorm(nuc_img),99),7),alpha=.5,linewidths=.5)\n",
    "        cs.cmap.set_over('purple')\n",
    "        cs=ax.contour(imprep.znorm(rep_img),cmap=plt.cm.YlOrBr_r,levels=np.linspace(0,np.percentile(imprep.znorm(rep_img),99),7),alpha=.25,linewidths=.5)\n",
    "        cs.cmap.set_over('yellow')\n",
    "        return ax\n",
    "\n",
    "def rescale_to_int(img,maxint=255,dtype=np.uint16):\n",
    "    img=maxint*((img-np.min(img))/np.max(img-np.min(img)))\n",
    "    return img.astype(dtype)\n",
    "\n",
    "def show_3dseg_zproj(fig,im3d,labels,fmap=None,fmapscale=None,labels2=None,fmsk=None):\n",
    "    zproj=np.sum(im3d,axis=0)\n",
    "    labels_zproj=np.max(labels,axis=0)\n",
    "    plt.imshow(zproj,cmap=plt.cm.gray_r)\n",
    "    plt.contour(labels_zproj,levels=np.arange(np.max(labels_zproj)),colors='blue',linewidths=1)\n",
    "    if fmap is not None:\n",
    "        #plt.contour(np.max(fmap,axis=0),levels=np.linspace(np.min(fmap),np.max(fmap),21),cmap=plt.cm.PiYG_r)\n",
    "        plt.imshow(np.max(fmap,axis=0),cmap=plt.cm.YlOrRd,alpha=.33,clim=fmapscale)\n",
    "    if labels2 is not None:\n",
    "        labels2_zproj=np.max(labels2,axis=0)\n",
    "        plt.contour(labels2_zproj,levels=np.arange(np.max(labels2_zproj)),colors='green',linewidths=1)\n",
    "    if fmsk is not None:\n",
    "        fmsk_zproj=np.max(fmsk,axis=0)\n",
    "        plt.contour(fmsk_zproj,levels=np.arange(np.max(fmsk_zproj)),colors='red',linewidths=1)    \n",
    "    plt.axis('equal');plt.axis('off')\n",
    "\n",
    "def log_ztransform(img):\n",
    "    img=np.log(imprep.znorm(img)+1.-np.min(imprep.znorm(img)))\n",
    "    return img\n",
    "\n",
    "def nuc_viewtransform(im3d_nuc,zcut_nuc=2.0,rsmooth=1.0,zscale=5.0):\n",
    "    im3d_nuc=skimage.filters.gaussian(im3d_nuc,sigma=[rsmooth/zscale,rsmooth,rsmooth])\n",
    "    im3d_nuc=imprep.znorm(im3d_nuc)\n",
    "    im3d_nuc[im3d_nuc<zcut_nuc]=0\n",
    "    im3d_nuc=rescale_to_int(log_ztransform(im3d_nuc))\n",
    "    return im3d_nuc\n",
    "\n",
    "def bf_viewtransform(im3d_bf,rsmooth=10.0,zscale=5.0,zcut=2.0,remove_background=False):\n",
    "    im3d_bf=skimage.filters.difference_of_gaussians(im3d_bf,.5,1.5)\n",
    "    if remove_background:\n",
    "        im3d_bf_smth=skimage.filters.gaussian(np.abs(im3d_bf),sigma=[rsmooth/zscale,rsmooth,rsmooth])\n",
    "        msk_bf=imprep.znorm(im3d_bf_smth)>zcut\n",
    "        msk_bf=binary_fill_holes_2dstack(msk_bf)\n",
    "    im3d_bf=rescale_to_int(log_ztransform(im3d_bf))\n",
    "    im3d_bf=np.max(im3d_bf)-im3d_bf\n",
    "    if remove_background:\n",
    "        im3d_bf[np.logical_not(msk_bf)]=0\n",
    "    return im3d_bf\n",
    "\n",
    "def rep_viewtransform(im3d_rep,rsmooth=1.0,zscale=5.0):\n",
    "    im3d_rep=skimage.filters.gaussian(im3d_rep,sigma=[rsmooth/zscale,rsmooth,rsmooth])\n",
    "    im3d_rep=rescale_to_int(log_ztransform(im3d_rep))\n",
    "    return im3d_rep\n",
    "\n",
    "def binary_fill_holes_2dstack(im3d):\n",
    "    for iz in range(im3d.shape[0]):\n",
    "        im3d[iz,...]=ndimage.binary_fill_holes(im3d[iz,...])\n",
    "    return im3d"
   ]
  },
  {
   "cell_type": "markdown",
   "id": "e33ba582-846e-458c-9423-9a560a0fe1b1",
   "metadata": {},
   "source": [
    "##### Loop through model files, track, featurize, and save"
   ]
  },
  {
   "cell_type": "code",
   "execution_count": 45,
   "id": "e055ca46-27c2-4b4f-b85a-fe908bf1c09f",
   "metadata": {},
   "outputs": [
    {
     "name": "stdout",
     "output_type": "stream",
     "text": [
      "featurizing cells from frame 0\n",
      "warning: frame 0 mask1 and mask2 yielding different indices\n",
      "featurizing cells from frame 1\n",
      "warning: frame 1 mask1 and mask2 yielding different indices\n",
      "featurizing cells from frame 2\n",
      "warning: frame 2 mask1 and mask2 yielding different indices\n",
      "featurizing cells from frame 3\n",
      "warning: frame 3 mask1 and mask2 yielding different indices\n",
      "featurizing cells from frame 4\n",
      "warning: frame 4 mask1 and mask2 yielding different indices\n",
      "featurizing cells from frame 5\n",
      "warning: frame 5 mask1 and mask2 yielding different indices\n",
      "featurizing cells from frame 6\n",
      "warning: frame 6 mask1 and mask2 yielding different indices\n",
      "featurizing cells from frame 7\n",
      "warning: frame 7 mask1 and mask2 yielding different indices\n",
      "featurizing cells from frame 8\n",
      "warning: frame 8 mask1 and mask2 yielding different indices\n",
      "featurizing cells from frame 9\n",
      "warning: frame 9 mask1 and mask2 yielding different indices\n",
      "featurizing cells from frame 10\n",
      "warning: frame 10 mask1 and mask2 yielding different indices\n",
      "featurizing cells from frame 11\n",
      "warning: frame 11 mask1 and mask2 yielding different indices\n",
      "featurizing cells from frame 12\n",
      "warning: frame 12 mask1 and mask2 yielding different indices\n",
      "featurizing cells from frame 13\n",
      "warning: frame 13 mask1 and mask2 yielding different indices\n",
      "featurizing cells from frame 14\n",
      "warning: frame 14 mask1 and mask2 yielding different indices\n",
      "featurizing cells from frame 15\n",
      "warning: frame 15 mask1 and mask2 yielding different indices\n",
      "featurizing cells from frame 16\n",
      "warning: frame 16 mask1 and mask2 yielding different indices\n",
      "featurizing cells from frame 17\n",
      "warning: frame 17 mask1 and mask2 yielding different indices\n",
      "featurizing cells from frame 18\n",
      "warning: frame 18 mask1 and mask2 yielding different indices\n",
      "featurizing cells from frame 19\n",
      "warning: frame 19 mask1 and mask2 yielding different indices\n",
      "featurizing cells from frame 20\n",
      "warning: frame 20 mask1 and mask2 yielding different indices\n",
      "featurizing cells from frame 21\n",
      "warning: frame 21 mask1 and mask2 yielding different indices\n",
      "featurizing cells from frame 22\n",
      "warning: frame 22 mask1 and mask2 yielding different indices\n",
      "featurizing cells from frame 23\n",
      "warning: frame 23 mask1 and mask2 yielding different indices\n",
      "featurizing cells from frame 24\n",
      "warning: frame 24 mask1 and mask2 yielding different indices\n",
      "saving attributes ['img0_m0m1_ratio'] to /cell_data/ in /home/groups/CEDAR/copperma/dyn-cell-sys/Vaibhav/240213_ms_lung_w_t4_VM/20240213_T4lung_VM_xy9_roi0.h5\n",
      "error saving img0_m0m1_ratio to /home/groups/CEDAR/copperma/dyn-cell-sys/Vaibhav/240213_ms_lung_w_t4_VM/20240213_T4lung_VM_xy9_roi0.h5//cell_data/: The data representation in the HDF5 file does not match the original dict.\n"
     ]
    }
   ],
   "source": [
    "for h5filename in modelList:\n",
    "    try:\n",
    "        sctm=trajectory.Trajectory(h5filename=h5filename)\n",
    "        sctm.get_image_shape()\n",
    "        print(f'{sctm.nmaskchannels}')\n",
    "        sctm.get_frames()\n",
    "        nuc_msk_channel=np.where(sctm.mask_channels==np.array(['nuc']).astype('S32'))[0][0]\n",
    "        cyto_msk_channel=np.where(sctm.mask_channels==np.array(['cyto']).astype('S32'))[0][0]\n",
    "        nuc_img_channel=np.where(sctm.channels==np.array(['Cy5']).astype('S32'))[0][0]\n",
    "        erk_img_channel=np.where(sctm.channels==np.array(['YFP']).astype('S32'))[0][0]\n",
    "        akt_img_channel=np.where(sctm.channels==np.array(['TRITC']).astype('S32'))[0][0]\n",
    "        #fra1_img_channel=np.where(sctm.channels==np.array(['CFP']).astype('S32'))[0][0]\n",
    "        bf_img_channel=np.where(sctm.channels==np.array(['BF']).astype('S32'))[0][0]\n",
    "        sctm.get_cell_index(verbose=True,save_h5=True,overwrite=True)\n",
    "        ntrans=[1,1,1]\n",
    "        maxt=[0.,0.,0.]\n",
    "        tf_matrix_set=sctm.get_stack_trans(mskchannel=0,ntrans=ntrans,maxt=maxt,dist_function=utilities.get_pairwise_distance_sum,save_h5=True,overwrite=True,do_global=False) #,contact_transform=True,r0=100.,d0=100.,n=6,m=12)\n",
    "        clear_output(wait=True)\n",
    "        x=sctm.get_cell_positions(save_h5=True,overwrite=True)\n",
    "        clear_output(wait=True)\n",
    "        tf_matrix_set_pad,pad_dims=imprep.get_registration_expansions(sctm.tf_matrix_set,sctm.nz,sctm.nx,sctm.ny)\n",
    "        clear_output(wait=True)\n",
    "        #linSet=sctm.get_lineage_btrack(mskchannel=0,distcut=3*sctm.cellpose_diam,framewindow=6,visual=True,max_search_radius=5*sctm.cellpose_diam,save_h5=True,overwrite=True)\n",
    "        linSet=sctm.get_lineage_mindist(distcut=3*sctm.cellpose_diam,visual=True,save_h5=True,overwrite=True)\n",
    "        clear_output(wait=True)\n",
    "        #Bright field features with cyto masks\n",
    "        Xf,feature_list=sctm.get_cell_features((features.featZernike,features.featHaralick,features.featBoundary),indcells=None,imgchannel=bf_img_channel,mskchannel=cyto_msk_channel,return_feature_list=True,save_h5=True,overwrite=True)\n",
    "        #foreground mask boundary features\n",
    "        clear_output(wait=True)\n",
    "        bordersize=int(sctm.cellpose_diam/5.)\n",
    "        Xf,feature_list=sctm.get_cell_features((features.featBoundaryCB),indcells=None,imgchannel=0,mskchannel=cyto_msk_channel,use_fmask_for_intensity_image=True,bordersize=bordersize,return_feature_list=True,save_h5=True,overwrite=True,concatenate_features=True)\n",
    "        clear_output(wait=True)\n",
    "        #Reporter features with cyto masks\n",
    "        #Xf,feature_list=sctm.get_cell_features((features.featZernike,features.featHaralick),indcells=None,imgchannel=rep_img_channel,mskchannel=cyto_msk_channel,return_feature_list=True,save_h5=True,overwrite=True,concatenate_features=True)\n",
    "        #nuclear features with cyto masks\n",
    "        #Xf,feature_list=sctm.get_cell_features((features.featZernike,features.featHaralick),indcells=None,imgchannel=nuc_img_channel,mskchannel=cyto_msk_channel,return_feature_list=True,save_h5=True,overwrite=True,concatenate_features=True)\n",
    "        #nuclear shape features with cyto masks, nuc masks as intensity image\n",
    "        #Xf,feature_list=sctm.get_cell_features((features.featNucBoundary),indcells=None,use_mask_for_intensity_image=True,imgchannel=nuc_msk_channel,mskchannel=cyto_msk_channel,return_feature_list=True,save_h5=True,overwrite=True,concatenate_features=True)\n",
    "        #boundary features to monitor cancer cell neighbors\n",
    "        Xf,feature_list=sctm.get_cell_features((features.featBoundaryCB),indcells=None,use_mask_for_intensity_image=True,apply_contact_transform=True,bordersize=int(bordersize/2),imgchannel=cyto_msk_channel,mskchannel=cyto_msk_channel,return_feature_list=True,save_h5=True,overwrite=True,concatenate_features=True)\n",
    "        clear_output(wait=True)\n",
    "        #Xf,feature_list=sctm.get_cell_features((features.totalIntensity),indcells=None,imgchannel=fra1_img_channel,mskchannel=cyto_msk_channel,return_feature_list=True,save_h5=True,overwrite=True,concatenate_features=True)\n",
    "        #clear_output(wait=True)\n",
    "        #Xf,feature_list=sctm.get_cell_features((features.meanIntensity),indcells=None,imgchannel=fra1_img_channel,mskchannel=cyto_msk_channel,return_feature_list=True,save_h5=True,overwrite=True,concatenate_features=True)\n",
    "        #clear_output(wait=True)\n",
    "        #motility features\n",
    "        #Xf_com=sctm.get_motility_features(mskchannel=cyto_msk_channel,save_h5=True,overwrite=True)\n",
    "        #clear_output(wait=True)\n",
    "        #signaling features\n",
    "        corrc_erk=sctm.get_cell_channel_crosscorr(mskchannel=cyto_msk_channel,imgchannel1=nuc_img_channel,imgchannel2=erk_img_channel,save_h5=True,overwrite=True)\n",
    "        corrc_erk=1.-corrc_erk\n",
    "        clear_output(wait=True)\n",
    "        cratio_erk=sctm.get_cell_compartment_ratio(imgchannel=erk_img_channel,mskchannel1=cyto_msk_channel,mskchannel2=nuc_msk_channel,make_disjoint=True,inverse_ratio=False,save_h5=True,overwrite=True)\n",
    "        clear_output(wait=True)\n",
    "        corrc_akt=sctm.get_cell_channel_crosscorr(mskchannel=cyto_msk_channel,imgchannel1=nuc_img_channel,imgchannel2=akt_img_channel,save_h5=True,overwrite=True)\n",
    "        corrc_akt=1.-corrc_akt\n",
    "        clear_output(wait=True)\n",
    "        cratio_akt=sctm.get_cell_compartment_ratio(imgchannel=akt_img_channel,mskchannel1=cyto_msk_channel,mskchannel2=nuc_msk_channel,make_disjoint=True,inverse_ratio=False,save_h5=True,overwrite=True)\n",
    "        clear_output(wait=True)\n",
    "        #fra1_nuc=sctm.get_cell_compartment_ratio(imgchannel=fra1_img_channel,mskchannel1=cyto_msk_channel,mskchannel2=nuc_msk_channel,make_disjoint=True,noratio=True,save_h5=True,overwrite=True)\n",
    "        #clear_output(wait=True)\n",
    "    except Exception as e:\n",
    "        print(e)"
   ]
  },
  {
   "cell_type": "code",
   "execution_count": 47,
   "id": "ee730fe4-80dc-454c-a49f-9ac27138e40e",
   "metadata": {},
   "outputs": [
    {
     "name": "stdout",
     "output_type": "stream",
     "text": [
      "['/home/groups/CEDAR/copperma/dyn-cell-sys/makkawi/20240302_OS17lung_RM/20240302_OS17lung_RM_xy3_roi0.h5', '/home/groups/CEDAR/copperma/dyn-cell-sys/makkawi/20240302_OS17lung_RM/20240302_OS17lung_RM_xy4_roi0.h5', '/home/groups/CEDAR/copperma/dyn-cell-sys/makkawi/20240302_OS17lung_RM/20240302_OS17lung_RM_xy5_roi0.h5', '/home/groups/CEDAR/copperma/dyn-cell-sys/makkawi/20240302_OS17lung_RM/20240302_OS17lung_RM_xy8_roi1.h5', '/home/groups/CEDAR/copperma/dyn-cell-sys/makkawi/20240302_OS17lung_RM/20240302_OS17lung_RM_xy9_roi0.h5', '/home/groups/CEDAR/copperma/dyn-cell-sys/makkawi/20240302_OS17lung_RM/20240302_OS17lung_RM_xy9_roi1.h5', '/home/groups/CEDAR/copperma/dyn-cell-sys/makkawi/20240302_OS17lung_RM/20240302_OS17lung_RM_xy15_roi0.h5', '/home/groups/CEDAR/copperma/dyn-cell-sys/makkawi/20240302_OS17lung_RM/20240302_OS17lung_RM_xy16_roi0.h5', '/home/groups/CEDAR/copperma/dyn-cell-sys/makkawi/20240302_OS17lung_RM/20240302_OS17lung_RM_xy16_roi1.h5', '/home/groups/CEDAR/copperma/dyn-cell-sys/makkawi/20240302_OS17lung_RM/20240302_OS17lung_RM_xy19_roi0.h5']\n"
     ]
    }
   ],
   "source": [
    "print(modelList)"
   ]
  },
  {
   "cell_type": "code",
   "execution_count": 45,
   "id": "6c83a054-a879-4f07-a6ff-d092ddba4623",
   "metadata": {},
   "outputs": [
    {
     "data": {
      "text/plain": [
       "<module 'trajectory' from '/home/groups/ZuckermanLab/copperma/cell/celltraj/celltraj/trajectory.py'>"
      ]
     },
     "execution_count": 45,
     "metadata": {},
     "output_type": "execute_result"
    }
   ],
   "source": [
    "importlib.reload(trajectory)"
   ]
  },
  {
   "cell_type": "code",
   "execution_count": 13,
   "id": "059702a8-46ab-4c7b-9368-0f4d015bd12a",
   "metadata": {},
   "outputs": [
    {
     "name": "stdout",
     "output_type": "stream",
     "text": [
      "featurizing cells from frame 0\n",
      "warning: frame 0 mask1 and mask2 yielding different indices\n",
      "featurizing cells from frame 1\n",
      "warning: frame 1 mask1 and mask2 yielding different indices\n",
      "featurizing cells from frame 2\n",
      "warning: frame 2 mask1 and mask2 yielding different indices\n",
      "featurizing cells from frame 3\n",
      "warning: frame 3 mask1 and mask2 yielding different indices\n",
      "featurizing cells from frame 4\n",
      "warning: frame 4 mask1 and mask2 yielding different indices\n",
      "featurizing cells from frame 5\n",
      "warning: frame 5 mask1 and mask2 yielding different indices\n",
      "featurizing cells from frame 6\n",
      "warning: frame 6 mask1 and mask2 yielding different indices\n",
      "featurizing cells from frame 7\n",
      "warning: frame 7 mask1 and mask2 yielding different indices\n",
      "featurizing cells from frame 8\n",
      "warning: frame 8 mask1 and mask2 yielding different indices\n",
      "featurizing cells from frame 9\n",
      "warning: frame 9 mask1 and mask2 yielding different indices\n",
      "featurizing cells from frame 10\n",
      "warning: frame 10 mask1 and mask2 yielding different indices\n",
      "featurizing cells from frame 11\n",
      "warning: frame 11 mask1 and mask2 yielding different indices\n",
      "featurizing cells from frame 12\n",
      "warning: frame 12 mask1 and mask2 yielding different indices\n",
      "featurizing cells from frame 13\n",
      "warning: frame 13 mask1 and mask2 yielding different indices\n",
      "featurizing cells from frame 14\n",
      "warning: frame 14 mask1 and mask2 yielding different indices\n",
      "featurizing cells from frame 15\n",
      "warning: frame 15 mask1 and mask2 yielding different indices\n",
      "featurizing cells from frame 16\n",
      "warning: frame 16 mask1 and mask2 yielding different indices\n",
      "featurizing cells from frame 17\n",
      "warning: frame 17 mask1 and mask2 yielding different indices\n",
      "featurizing cells from frame 18\n",
      "warning: frame 18 mask1 and mask2 yielding different indices\n",
      "featurizing cells from frame 19\n",
      "warning: frame 19 mask1 and mask2 yielding different indices\n",
      "featurizing cells from frame 20\n",
      "warning: frame 20 mask1 and mask2 yielding different indices\n",
      "featurizing cells from frame 21\n",
      "warning: frame 21 mask1 and mask2 yielding different indices\n",
      "featurizing cells from frame 22\n",
      "warning: frame 22 mask1 and mask2 yielding different indices\n",
      "featurizing cells from frame 23\n",
      "warning: frame 23 mask1 and mask2 yielding different indices\n",
      "featurizing cells from frame 24\n",
      "warning: frame 24 mask1 and mask2 yielding different indices\n",
      "saving attributes ['img0_m0m1_ratio'] to /cell_data/ in /home/groups/CEDAR/copperma/dyn-cell-sys/Vaibhav/240213_ms_lung_w_t4_VM/20240213_T4lung_VM_xy0_roi0.h5\n",
      "error saving img0_m0m1_ratio to /home/groups/CEDAR/copperma/dyn-cell-sys/Vaibhav/240213_ms_lung_w_t4_VM/20240213_T4lung_VM_xy0_roi0.h5//cell_data/: The data representation in the HDF5 file does not match the original dict.\n"
     ]
    }
   ],
   "source": [
    "if True:\n",
    "        corrc_erk=sctm.get_cell_channel_crosscorr(mskchannel=cyto_msk_channel,imgchannel1=nuc_img_channel,imgchannel2=erk_img_channel,save_h5=True,overwrite=True)\n",
    "        corrc_erk=1.-corrc_erk\n",
    "        clear_output(wait=True)\n",
    "        cratio_erk=sctm.get_cell_compartment_ratio(imgchannel=erk_img_channel,mskchannel1=cyto_msk_channel,mskchannel2=nuc_msk_channel,make_disjoint=True,inverse_ratio=False,save_h5=True,overwrite=True)\n",
    "        clear_output(wait=True)\n",
    "        corrc_akt=sctm.get_cell_channel_crosscorr(mskchannel=cyto_msk_channel,imgchannel1=nuc_img_channel,imgchannel2=akt_img_channel,save_h5=True,overwrite=True)\n",
    "        corrc_akt=1.-corrc_akt\n",
    "        clear_output(wait=True)\n",
    "        cratio_akt=sctm.get_cell_compartment_ratio(imgchannel=akt_img_channel,mskchannel1=cyto_msk_channel,mskchannel2=nuc_msk_channel,make_disjoint=True,inverse_ratio=False,save_h5=True,overwrite=True)\n",
    "        clear_output(wait=True)"
   ]
  },
  {
   "cell_type": "code",
   "execution_count": 18,
   "id": "3ed17199-8162-4cae-9f9f-5ad7e4812787",
   "metadata": {},
   "outputs": [
    {
     "data": {
      "text/plain": [
       "(-2.0, 2.0)"
      ]
     },
     "execution_count": 18,
     "metadata": {},
     "output_type": "execute_result"
    },
    {
     "data": {
      "image/png": "[encoded data removed]",
      "text/plain": [
       "<Figure size 640x480 with 1 Axes>"
      ]
     },
     "metadata": {},
     "output_type": "display_data"
    }
   ],
   "source": [
    "cratio_erk=imprep.znorm(sctm.img2_m0m1_ratio)\n",
    "corrc_erk=imprep.znorm(1.-np.array(sctm.m0_img1img2_crosscorr))\n",
    "plt.clf()\n",
    "plt.scatter(corrc_erk,cratio_erk)\n",
    "plt.xlim(-2,2)\n",
    "plt.ylim(-2,2)"
   ]
  },
  {
   "cell_type": "code",
   "execution_count": 19,
   "id": "6d94eb16-f73b-4fe9-a25f-69f76f00e997",
   "metadata": {},
   "outputs": [
    {
     "data": {
      "text/plain": [
       "(-2.0, 2.0)"
      ]
     },
     "execution_count": 19,
     "metadata": {},
     "output_type": "execute_result"
    },
    {
     "data": {
      "image/png": "[encoded data removed]",
      "text/plain": [
       "<Figure size 640x480 with 1 Axes>"
      ]
     },
     "metadata": {},
     "output_type": "display_data"
    }
   ],
   "source": [
    "cratio_akt=imprep.znorm(sctm.img0_m0m1_ratio)\n",
    "corrc_akt=imprep.znorm(1.-np.array(sctm.m0_img1img2_crosscorr))\n",
    "plt.clf()\n",
    "plt.scatter(corrc_akt,cratio_akt)\n",
    "plt.xlim(-2,2)\n",
    "plt.ylim(-2,2)"
   ]
  },
  {
   "cell_type": "code",
   "execution_count": 16,
   "id": "6d6c7c86-cd66-45e4-89a6-13003a5b7a5c",
   "metadata": {},
   "outputs": [
    {
     "data": {
      "text/plain": [
       "2"
      ]
     },
     "execution_count": 16,
     "metadata": {},
     "output_type": "execute_result"
    }
   ],
   "source": [
    "erk_img_channel"
   ]
  },
  {
   "cell_type": "code",
   "execution_count": 23,
   "id": "3c580faf-828a-4a72-b378-85544c982d71",
   "metadata": {},
   "outputs": [],
   "source": [
    "fra1_tot=imprep.znorm(Xf[:,feature_list=='totalIntensity_msk0img1'])\n",
    "fra1_mean=imprep.znorm(Xf[:,feature_list=='meanIntensity_msk0img1'])\n",
    "fra1_nuc=imprep.znorm(sctm.img1_m0m1_ratio)"
   ]
  },
  {
   "cell_type": "code",
   "execution_count": 33,
   "id": "15ff6b2d-9df7-40f7-aec4-874b46512325",
   "metadata": {},
   "outputs": [
    {
     "data": {
      "text/plain": [
       "<matplotlib.collections.PathCollection at 0x7fe3fad96580>"
      ]
     },
     "execution_count": 33,
     "metadata": {},
     "output_type": "execute_result"
    },
    {
     "data": {
      "image/png": "[encoded data removed]",
      "text/plain": [
       "<Figure size 640x480 with 1 Axes>"
      ]
     },
     "metadata": {},
     "output_type": "display_data"
    }
   ],
   "source": [
    "plt.scatter(cratio_erk,cratio_akt)"
   ]
  },
  {
   "cell_type": "code",
   "execution_count": 17,
   "id": "ec06e5a8-94c3-4834-a72f-cbe6fe47099a",
   "metadata": {},
   "outputs": [
    {
     "data": {
      "text/plain": [
       "array([b'TRITC', b'Cy5', b'YFP', b'BF'], dtype='|S32')"
      ]
     },
     "execution_count": 17,
     "metadata": {},
     "output_type": "execute_result"
    }
   ],
   "source": [
    "sctm.channels"
   ]
  },
  {
   "cell_type": "code",
   "execution_count": 14,
   "id": "5235c526-f9d6-4d35-82a8-5ec15d9aaeda",
   "metadata": {},
   "outputs": [
    {
     "name": "stdout",
     "output_type": "stream",
     "text": [
      "['/home/groups/CEDAR/copperma/dyn-cell-sys/makkawi/20240302_OS17lung_RM/20240302_OS17lung_RM_xy15_roi0.h5', '/home/groups/CEDAR/copperma/dyn-cell-sys/makkawi/20240302_OS17lung_RM/20240302_OS17lung_RM_xy16_roi0.h5', '/home/groups/CEDAR/copperma/dyn-cell-sys/makkawi/20240302_OS17lung_RM/20240302_OS17lung_RM_xy16_roi1.h5', '/home/groups/CEDAR/copperma/dyn-cell-sys/makkawi/20240302_OS17lung_RM/20240302_OS17lung_RM_xy18_roi0.h5', '/home/groups/CEDAR/copperma/dyn-cell-sys/makkawi/20240302_OS17lung_RM/20240302_OS17lung_RM_xy19_roi0.h5', '/home/groups/CEDAR/copperma/dyn-cell-sys/makkawi/20240302_OS17lung_RM/20240302_OS17lung_RM_xy3_roi0.h5', '/home/groups/CEDAR/copperma/dyn-cell-sys/makkawi/20240302_OS17lung_RM/20240302_OS17lung_RM_xy4_roi0.h5', '/home/groups/CEDAR/copperma/dyn-cell-sys/makkawi/20240302_OS17lung_RM/20240302_OS17lung_RM_xy5_roi0.h5', '/home/groups/CEDAR/copperma/dyn-cell-sys/makkawi/20240302_OS17lung_RM/20240302_OS17lung_RM_xy6_roi0.h5', '/home/groups/CEDAR/copperma/dyn-cell-sys/makkawi/20240302_OS17lung_RM/20240302_OS17lung_RM_xy8_roi0.h5', '/home/groups/CEDAR/copperma/dyn-cell-sys/makkawi/20240302_OS17lung_RM/20240302_OS17lung_RM_xy8_roi1.h5', '/home/groups/CEDAR/copperma/dyn-cell-sys/makkawi/20240302_OS17lung_RM/20240302_OS17lung_RM_xy9_roi0.h5', '/home/groups/CEDAR/copperma/dyn-cell-sys/makkawi/20240302_OS17lung_RM/20240302_OS17lung_RM_xy9_roi1.h5']\n"
     ]
    }
   ],
   "source": [
    "print(modelList[2:])"
   ]
  },
  {
   "cell_type": "code",
   "execution_count": null,
   "id": "35b6fbb9-88f6-4c7e-9e14-89fc761cd700",
   "metadata": {},
   "outputs": [],
   "source": []
  }
 ],
 "metadata": {
  "kernelspec": {
   "display_name": "celltraj_env",
   "language": "python",
   "name": "celltraj_env"
  },
  "language_info": {
   "codemirror_mode": {
    "name": "ipython",
    "version": 3
   },
   "file_extension": ".py",
   "mimetype": "text/x-python",
   "name": "python",
   "nbconvert_exporter": "python",
   "pygments_lexer": "ipython3",
   "version": "3.9.17"
  }
 },
 "nbformat": 4,
 "nbformat_minor": 5
}
